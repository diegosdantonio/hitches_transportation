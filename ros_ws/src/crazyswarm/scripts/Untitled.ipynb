{
 "cells": [
  {
   "cell_type": "code",
   "execution_count": null,
   "id": "41bc7e93",
   "metadata": {},
   "outputs": [],
   "source": [
    "import bagpy\n",
    "from bagpy import bagreader\n",
    "import pandas as pd\n",
    "import seaborn as sea\n",
    "import matplotlib.pyplot as plt\n",
    "import numpy as np"
   ]
  },
  {
   "cell_type": "code",
   "execution_count": 2,
   "id": "f371a798",
   "metadata": {},
   "outputs": [
    {
     "name": "stdout",
     "output_type": "stream",
     "text": [
      "[INFO]  Data folder 2022-07-24-20-59-24 already exists. Not creating.\n"
     ]
    }
   ],
   "source": [
    "b = bagreader('2022-07-24-20-59-24.bag')"
   ]
  },
  {
   "cell_type": "code",
   "execution_count": 25,
   "id": "a6cf7d5d",
   "metadata": {
    "scrolled": true
   },
   "outputs": [
    {
     "data": {
      "text/html": [
       "<div>\n",
       "<style scoped>\n",
       "    .dataframe tbody tr th:only-of-type {\n",
       "        vertical-align: middle;\n",
       "    }\n",
       "\n",
       "    .dataframe tbody tr th {\n",
       "        vertical-align: top;\n",
       "    }\n",
       "\n",
       "    .dataframe thead th {\n",
       "        text-align: right;\n",
       "    }\n",
       "</style>\n",
       "<table border=\"1\" class=\"dataframe\">\n",
       "  <thead>\n",
       "    <tr style=\"text-align: right;\">\n",
       "      <th></th>\n",
       "      <th>Topics</th>\n",
       "      <th>Types</th>\n",
       "      <th>Message Count</th>\n",
       "      <th>Frequency</th>\n",
       "    </tr>\n",
       "  </thead>\n",
       "  <tbody>\n",
       "    <tr>\n",
       "      <th>0</th>\n",
       "      <td>/diagnostics</td>\n",
       "      <td>diagnostic_msgs/DiagnosticArray</td>\n",
       "      <td>346</td>\n",
       "      <td>0.998820</td>\n",
       "    </tr>\n",
       "    <tr>\n",
       "      <th>1</th>\n",
       "      <td>/joy</td>\n",
       "      <td>sensor_msgs/Joy</td>\n",
       "      <td>8</td>\n",
       "      <td>5.317801</td>\n",
       "    </tr>\n",
       "    <tr>\n",
       "      <th>2</th>\n",
       "      <td>/rosout</td>\n",
       "      <td>rosgraph_msgs/Log</td>\n",
       "      <td>5425</td>\n",
       "      <td>81.530659</td>\n",
       "    </tr>\n",
       "    <tr>\n",
       "      <th>3</th>\n",
       "      <td>/rosout_agg</td>\n",
       "      <td>rosgraph_msgs/Log</td>\n",
       "      <td>5418</td>\n",
       "      <td>81.495016</td>\n",
       "    </tr>\n",
       "    <tr>\n",
       "      <th>4</th>\n",
       "      <td>/tf</td>\n",
       "      <td>tf2_msgs/TFMessage</td>\n",
       "      <td>250211</td>\n",
       "      <td>27060.025806</td>\n",
       "    </tr>\n",
       "  </tbody>\n",
       "</table>\n",
       "</div>"
      ],
      "text/plain": [
       "         Topics                            Types  Message Count     Frequency\n",
       "0  /diagnostics  diagnostic_msgs/DiagnosticArray            346      0.998820\n",
       "1          /joy                  sensor_msgs/Joy              8      5.317801\n",
       "2       /rosout                rosgraph_msgs/Log           5425     81.530659\n",
       "3   /rosout_agg                rosgraph_msgs/Log           5418     81.495016\n",
       "4           /tf               tf2_msgs/TFMessage         250211  27060.025806"
      ]
     },
     "execution_count": 25,
     "metadata": {},
     "output_type": "execute_result"
    }
   ],
   "source": [
    "b.topic_table\n"
   ]
  },
  {
   "cell_type": "code",
   "execution_count": 56,
   "id": "8766e670",
   "metadata": {},
   "outputs": [
    {
     "data": {
      "text/plain": [
       "dict_keys(['/diagnostics', '/joy', '/rosout', '/rosout_agg', '/tf'])"
      ]
     },
     "execution_count": 56,
     "metadata": {},
     "output_type": "execute_result"
    }
   ],
   "source": [
    "import rosbag\n",
    "bag = rosbag.Bag('2022-07-24-20-59-24.bag')\n",
    "topics = bag.get_type_and_topic_info()[1].keys()\n",
    "# types = []\n",
    "# for i in range(0,len(bag.get_type_and_topic_info()[1].values())):\n",
    "#     types.append(bag.get_type_and_topic_info()[1].values()[i][0])\n",
    "topics"
   ]
  },
  {
   "cell_type": "code",
   "execution_count": 53,
   "id": "7669b105",
   "metadata": {},
   "outputs": [
    {
     "name": "stdout",
     "output_type": "stream",
     "text": [
      "File saved: 2022-07-24-20-59-24/tf.csv\n"
     ]
    }
   ],
   "source": [
    "data = b.message_by_topic('/tf')\n",
    "print(\"File saved: {}\".format(data))"
   ]
  },
  {
   "cell_type": "code",
   "execution_count": 49,
   "id": "593dfd7e",
   "metadata": {},
   "outputs": [
    {
     "data": {
      "text/plain": [
       "Index(['Time', 'header.seq', 'header.stamp.secs', 'header.stamp.nsecs',\n",
       "       'header.frame_id', 'status'],\n",
       "      dtype='object')"
      ]
     },
     "execution_count": 49,
     "metadata": {},
     "output_type": "execute_result"
    }
   ],
   "source": [
    "data.columns"
   ]
  },
  {
   "cell_type": "code",
   "execution_count": 48,
   "id": "cbc1bfe2",
   "metadata": {},
   "outputs": [
    {
     "data": {
      "text/plain": [
       "Time                                                   1658710795.39807\n",
       "header.seq                                                           40\n",
       "header.stamp.secs                                            1658710795\n",
       "header.stamp.nsecs                                            397668042\n",
       "header.frame_id                                                     NaN\n",
       "status                [level: 0\\nname: \"joy: Joystick Driver Status\"...\n",
       "Name: 30, dtype: object"
      ]
     },
     "execution_count": 48,
     "metadata": {},
     "output_type": "execute_result"
    }
   ],
   "source": [
    "data.iloc[30]"
   ]
  },
  {
   "cell_type": "code",
   "execution_count": 52,
   "id": "dafbee12",
   "metadata": {},
   "outputs": [
    {
     "data": {
      "text/plain": [
       "dict_keys(['/diagnostics', '/joy', '/rosout', '/rosout_agg', '/tf'])"
      ]
     },
     "execution_count": 52,
     "metadata": {},
     "output_type": "execute_result"
    }
   ],
   "source": [
    "b.topics"
   ]
  },
  {
   "cell_type": "code",
   "execution_count": null,
   "id": "86e58d39",
   "metadata": {},
   "outputs": [],
   "source": []
  }
 ],
 "metadata": {
  "kernelspec": {
   "display_name": "Python 3",
   "language": "python",
   "name": "python3"
  },
  "language_info": {
   "codemirror_mode": {
    "name": "ipython",
    "version": 3
   },
   "file_extension": ".py",
   "mimetype": "text/x-python",
   "name": "python",
   "nbconvert_exporter": "python",
   "pygments_lexer": "ipython3",
   "version": "3.8.10"
  }
 },
 "nbformat": 4,
 "nbformat_minor": 5
}
